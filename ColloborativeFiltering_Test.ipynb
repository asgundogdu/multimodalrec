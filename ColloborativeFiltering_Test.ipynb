{
 "cells": [
  {
   "cell_type": "code",
   "execution_count": 11,
   "metadata": {},
   "outputs": [],
   "source": [
    "from data import data_creation as dc\n",
    "import os\n",
    "import numpy as np\n",
    "import pandas as pd\n",
    "\n",
    "from multimodalrec.viewership import CollaborativeFiltering\n",
    "\n",
    "directory = os.path.dirname(os.path.realpath(\"__file__\"))+'/data/ml-1m/ratings.dat'\n",
    "all_movies_dir = os.path.dirname(os.path.realpath(\"__file__\"))+'/data/all_movies.txt'\n",
    "pickles_dir = os.path.dirname(os.path.realpath(\"__file__\"))+'/data/pickles/'"
   ]
  },
  {
   "cell_type": "code",
   "execution_count": 2,
   "metadata": {},
   "outputs": [],
   "source": [
    "data = dc.get_movielens_1M(directory=directory, all_movies_dir=all_movies_dir, pickles_dir=pickles_dir, min_positive_score=0)"
   ]
  },
  {
   "cell_type": "code",
   "execution_count": 3,
   "metadata": {},
   "outputs": [],
   "source": [
    "# There is no movies exist both in training and test set\n",
    "assert len(set(data['training'].Movie.unique().tolist()) - set(data['test'].Movie.unique().tolist())) == len(data['training'].Movie.unique().tolist())"
   ]
  },
  {
   "cell_type": "code",
   "execution_count": 4,
   "metadata": {},
   "outputs": [
    {
     "name": "stdout",
     "output_type": "stream",
     "text": [
      "The sparsity level of training dataset is 95.1%\n"
     ]
    }
   ],
   "source": [
    "CF = CollaborativeFiltering(data['training']) # 0 Threshold trim"
   ]
  },
  {
   "cell_type": "code",
   "execution_count": 25,
   "metadata": {},
   "outputs": [],
   "source": [
    "user_latent, movie_latent, sigma = CF.compute_latent_factors(algorithm='SVD', k=256)"
   ]
  },
  {
   "cell_type": "code",
   "execution_count": 26,
   "metadata": {},
   "outputs": [
    {
     "data": {
      "text/plain": [
       "(6040, 256)"
      ]
     },
     "execution_count": 26,
     "metadata": {},
     "output_type": "execute_result"
    }
   ],
   "source": [
    "user_latent.shape"
   ]
  },
  {
   "cell_type": "code",
   "execution_count": 27,
   "metadata": {},
   "outputs": [
    {
     "data": {
      "text/plain": [
       "(2814, 256)"
      ]
     },
     "execution_count": 27,
     "metadata": {},
     "output_type": "execute_result"
    }
   ],
   "source": [
    "movie_latent.shape"
   ]
  },
  {
   "cell_type": "code",
   "execution_count": 28,
   "metadata": {},
   "outputs": [],
   "source": [
    "all_user_predicted_ratings = np.dot(np.dot(user_latent, sigma), movie_latent.T) + CF.user_ratings_mean.reshape(-1, 1)"
   ]
  },
  {
   "cell_type": "code",
   "execution_count": 29,
   "metadata": {},
   "outputs": [
    {
     "data": {
      "text/html": [
       "<div>\n",
       "<style scoped>\n",
       "    .dataframe tbody tr th:only-of-type {\n",
       "        vertical-align: middle;\n",
       "    }\n",
       "\n",
       "    .dataframe tbody tr th {\n",
       "        vertical-align: top;\n",
       "    }\n",
       "\n",
       "    .dataframe thead th {\n",
       "        text-align: right;\n",
       "    }\n",
       "</style>\n",
       "<table border=\"1\" class=\"dataframe\">\n",
       "  <thead>\n",
       "    <tr style=\"text-align: right;\">\n",
       "      <th>Movie</th>\n",
       "      <th>1</th>\n",
       "      <th>2</th>\n",
       "      <th>3</th>\n",
       "      <th>6</th>\n",
       "      <th>7</th>\n",
       "      <th>8</th>\n",
       "      <th>9</th>\n",
       "      <th>10</th>\n",
       "      <th>11</th>\n",
       "      <th>12</th>\n",
       "      <th>...</th>\n",
       "      <th>3927</th>\n",
       "      <th>3928</th>\n",
       "      <th>3929</th>\n",
       "      <th>3930</th>\n",
       "      <th>3931</th>\n",
       "      <th>3932</th>\n",
       "      <th>3933</th>\n",
       "      <th>3934</th>\n",
       "      <th>3940</th>\n",
       "      <th>3942</th>\n",
       "    </tr>\n",
       "  </thead>\n",
       "  <tbody>\n",
       "    <tr>\n",
       "      <th>0</th>\n",
       "      <td>4.713227</td>\n",
       "      <td>0.350277</td>\n",
       "      <td>0.243687</td>\n",
       "      <td>-0.162407</td>\n",
       "      <td>0.284001</td>\n",
       "      <td>-0.004636</td>\n",
       "      <td>-0.031741</td>\n",
       "      <td>-0.400758</td>\n",
       "      <td>0.172223</td>\n",
       "      <td>-0.001217</td>\n",
       "      <td>...</td>\n",
       "      <td>0.030711</td>\n",
       "      <td>0.031155</td>\n",
       "      <td>0.189989</td>\n",
       "      <td>0.020250</td>\n",
       "      <td>-0.011669</td>\n",
       "      <td>0.064763</td>\n",
       "      <td>0.010837</td>\n",
       "      <td>0.026753</td>\n",
       "      <td>0.022292</td>\n",
       "      <td>-0.004894</td>\n",
       "    </tr>\n",
       "    <tr>\n",
       "      <th>1</th>\n",
       "      <td>0.089044</td>\n",
       "      <td>-0.018035</td>\n",
       "      <td>0.129055</td>\n",
       "      <td>0.468278</td>\n",
       "      <td>0.339735</td>\n",
       "      <td>0.125887</td>\n",
       "      <td>0.131451</td>\n",
       "      <td>1.136423</td>\n",
       "      <td>0.070785</td>\n",
       "      <td>0.131048</td>\n",
       "      <td>...</td>\n",
       "      <td>-0.094842</td>\n",
       "      <td>0.034620</td>\n",
       "      <td>-0.110594</td>\n",
       "      <td>-0.057414</td>\n",
       "      <td>0.017177</td>\n",
       "      <td>-0.231932</td>\n",
       "      <td>0.059083</td>\n",
       "      <td>0.079986</td>\n",
       "      <td>0.010712</td>\n",
       "      <td>0.040609</td>\n",
       "    </tr>\n",
       "    <tr>\n",
       "      <th>2</th>\n",
       "      <td>0.707848</td>\n",
       "      <td>0.485784</td>\n",
       "      <td>-0.041892</td>\n",
       "      <td>-0.118159</td>\n",
       "      <td>0.027398</td>\n",
       "      <td>-0.022895</td>\n",
       "      <td>-0.051439</td>\n",
       "      <td>1.040665</td>\n",
       "      <td>-0.291188</td>\n",
       "      <td>0.189337</td>\n",
       "      <td>...</td>\n",
       "      <td>0.127651</td>\n",
       "      <td>0.027041</td>\n",
       "      <td>-0.159871</td>\n",
       "      <td>0.156089</td>\n",
       "      <td>-0.025927</td>\n",
       "      <td>-0.058249</td>\n",
       "      <td>-0.000636</td>\n",
       "      <td>-0.041094</td>\n",
       "      <td>-0.006965</td>\n",
       "      <td>-0.015796</td>\n",
       "    </tr>\n",
       "    <tr>\n",
       "      <th>3</th>\n",
       "      <td>-0.071408</td>\n",
       "      <td>0.176077</td>\n",
       "      <td>0.019421</td>\n",
       "      <td>-0.152679</td>\n",
       "      <td>-0.000881</td>\n",
       "      <td>-0.020237</td>\n",
       "      <td>-0.013045</td>\n",
       "      <td>-0.147421</td>\n",
       "      <td>0.083727</td>\n",
       "      <td>0.065879</td>\n",
       "      <td>...</td>\n",
       "      <td>0.014705</td>\n",
       "      <td>0.067798</td>\n",
       "      <td>-0.017181</td>\n",
       "      <td>0.026439</td>\n",
       "      <td>0.001986</td>\n",
       "      <td>0.088300</td>\n",
       "      <td>0.012400</td>\n",
       "      <td>0.004586</td>\n",
       "      <td>-0.016609</td>\n",
       "      <td>-0.020486</td>\n",
       "    </tr>\n",
       "    <tr>\n",
       "      <th>4</th>\n",
       "      <td>-0.574249</td>\n",
       "      <td>-0.584995</td>\n",
       "      <td>0.079000</td>\n",
       "      <td>1.330697</td>\n",
       "      <td>0.091802</td>\n",
       "      <td>-0.019495</td>\n",
       "      <td>-0.073461</td>\n",
       "      <td>-0.001723</td>\n",
       "      <td>-0.250169</td>\n",
       "      <td>-0.142926</td>\n",
       "      <td>...</td>\n",
       "      <td>0.317748</td>\n",
       "      <td>0.523946</td>\n",
       "      <td>-0.008077</td>\n",
       "      <td>0.264701</td>\n",
       "      <td>0.043940</td>\n",
       "      <td>-0.015370</td>\n",
       "      <td>0.035427</td>\n",
       "      <td>0.122357</td>\n",
       "      <td>0.001162</td>\n",
       "      <td>0.032594</td>\n",
       "    </tr>\n",
       "  </tbody>\n",
       "</table>\n",
       "<p>5 rows × 2814 columns</p>\n",
       "</div>"
      ],
      "text/plain": [
       "Movie      1         2         3         6         7         8         9     \\\n",
       "0      4.713227  0.350277  0.243687 -0.162407  0.284001 -0.004636 -0.031741   \n",
       "1      0.089044 -0.018035  0.129055  0.468278  0.339735  0.125887  0.131451   \n",
       "2      0.707848  0.485784 -0.041892 -0.118159  0.027398 -0.022895 -0.051439   \n",
       "3     -0.071408  0.176077  0.019421 -0.152679 -0.000881 -0.020237 -0.013045   \n",
       "4     -0.574249 -0.584995  0.079000  1.330697  0.091802 -0.019495 -0.073461   \n",
       "\n",
       "Movie      10        11        12      ...         3927      3928      3929  \\\n",
       "0     -0.400758  0.172223 -0.001217    ...     0.030711  0.031155  0.189989   \n",
       "1      1.136423  0.070785  0.131048    ...    -0.094842  0.034620 -0.110594   \n",
       "2      1.040665 -0.291188  0.189337    ...     0.127651  0.027041 -0.159871   \n",
       "3     -0.147421  0.083727  0.065879    ...     0.014705  0.067798 -0.017181   \n",
       "4     -0.001723 -0.250169 -0.142926    ...     0.317748  0.523946 -0.008077   \n",
       "\n",
       "Movie      3930      3931      3932      3933      3934      3940      3942  \n",
       "0      0.020250 -0.011669  0.064763  0.010837  0.026753  0.022292 -0.004894  \n",
       "1     -0.057414  0.017177 -0.231932  0.059083  0.079986  0.010712  0.040609  \n",
       "2      0.156089 -0.025927 -0.058249 -0.000636 -0.041094 -0.006965 -0.015796  \n",
       "3      0.026439  0.001986  0.088300  0.012400  0.004586 -0.016609 -0.020486  \n",
       "4      0.264701  0.043940 -0.015370  0.035427  0.122357  0.001162  0.032594  \n",
       "\n",
       "[5 rows x 2814 columns]"
      ]
     },
     "execution_count": 29,
     "metadata": {},
     "output_type": "execute_result"
    }
   ],
   "source": [
    "preds = pd.DataFrame(all_user_predicted_ratings, columns = CF.Ratings.columns)\n",
    "preds.head()"
   ]
  },
  {
   "cell_type": "code",
   "execution_count": 30,
   "metadata": {},
   "outputs": [],
   "source": [
    "I,J = np.where((CF.Ratings.values >= 1)==True)\n",
    "predicted_values = preds.values\n",
    "Ratings_values = CF.Ratings.values"
   ]
  },
  {
   "cell_type": "code",
   "execution_count": 31,
   "metadata": {},
   "outputs": [
    {
     "data": {
      "text/plain": [
       "1.2445614388699124"
      ]
     },
     "execution_count": 31,
     "metadata": {},
     "output_type": "execute_result"
    }
   ],
   "source": [
    "tot_abs_err = 0.\n",
    "predictions = []\n",
    "targets = []\n",
    "for enum, (i,j) in enumerate(zip(I,J)):\n",
    "    tot_abs_err += abs(Ratings_values[i,j] - predicted_values[i,j])\n",
    "    predictions.append(predicted_values[i,j])\n",
    "    targets.append(Ratings_values[i,j])\n",
    "tot_abs_err/float(enum)"
   ]
  }
 ],
 "metadata": {
  "kernelspec": {
   "display_name": "Python 3",
   "language": "python",
   "name": "python3"
  },
  "language_info": {
   "codemirror_mode": {
    "name": "ipython",
    "version": 3
   },
   "file_extension": ".py",
   "mimetype": "text/x-python",
   "name": "python",
   "nbconvert_exporter": "python",
   "pygments_lexer": "ipython3",
   "version": "3.6.5"
  }
 },
 "nbformat": 4,
 "nbformat_minor": 2
}
