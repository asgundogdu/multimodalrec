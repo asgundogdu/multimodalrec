{
 "cells": [
  {
   "cell_type": "code",
   "execution_count": 2,
   "metadata": {},
   "outputs": [
    {
     "name": "stderr",
     "output_type": "stream",
     "text": [
      "Using TensorFlow backend.\n"
     ]
    }
   ],
   "source": [
    "from multimodalrec.multimodalrec import MultimodalRec"
   ]
  },
  {
   "cell_type": "code",
   "execution_count": 3,
   "metadata": {},
   "outputs": [],
   "source": [
    "import numpy as np\n",
    "import pandas as pd\n",
    "from sklearn.preprocessing import normalize"
   ]
  },
  {
   "cell_type": "code",
   "execution_count": 4,
   "metadata": {},
   "outputs": [],
   "source": [
    "recmodel = MultimodalRec()"
   ]
  },
  {
   "cell_type": "code",
   "execution_count": 5,
   "metadata": {},
   "outputs": [
    {
     "name": "stdout",
     "output_type": "stream",
     "text": [
      "User-Movie Latent Factors are extracting...\n",
      "The sparsity level of training dataset is 95.1%\n"
     ]
    },
    {
     "name": "stderr",
     "output_type": "stream",
     "text": [
      "  3%|▎         | 77/2930 [00:00<00:03, 768.55it/s]"
     ]
    },
    {
     "name": "stdout",
     "output_type": "stream",
     "text": [
      "Done.\n",
      "Visual Representations are extracting...\n"
     ]
    },
    {
     "name": "stderr",
     "output_type": "stream",
     "text": [
      "100%|██████████| 2930/2930 [00:03<00:00, 732.92it/s]"
     ]
    },
    {
     "name": "stdout",
     "output_type": "stream",
     "text": [
      "Done.\n"
     ]
    },
    {
     "name": "stderr",
     "output_type": "stream",
     "text": [
      "\n"
     ]
    }
   ],
   "source": [
    "recmodel.organize_multimodal_data(load=True)"
   ]
  },
  {
   "cell_type": "code",
   "execution_count": 6,
   "metadata": {},
   "outputs": [
    {
     "name": "stdout",
     "output_type": "stream",
     "text": [
      "6040\n",
      "(256,)\n",
      "2814\n",
      "(256,)\n",
      "2930\n",
      "(30, 2048)\n"
     ]
    }
   ],
   "source": [
    "print(len(recmodel.user_latent))\n",
    "print(recmodel.user_latent[1].shape)\n",
    "\n",
    "print(len(recmodel.movie_latent))\n",
    "print(recmodel.movie_latent[1].shape)\n",
    "\n",
    "print(len(recmodel.visual_features)) # includes training set\n",
    "print(recmodel.visual_features[1].shape)"
   ]
  },
  {
   "cell_type": "code",
   "execution_count": 7,
   "metadata": {},
   "outputs": [
    {
     "name": "stdout",
     "output_type": "stream",
     "text": [
      "(486834, 5)\n"
     ]
    },
    {
     "data": {
      "text/html": [
       "<div>\n",
       "<style scoped>\n",
       "    .dataframe tbody tr th:only-of-type {\n",
       "        vertical-align: middle;\n",
       "    }\n",
       "\n",
       "    .dataframe tbody tr th {\n",
       "        vertical-align: top;\n",
       "    }\n",
       "\n",
       "    .dataframe thead th {\n",
       "        text-align: right;\n",
       "    }\n",
       "</style>\n",
       "<table border=\"1\" class=\"dataframe\">\n",
       "  <thead>\n",
       "    <tr style=\"text-align: right;\">\n",
       "      <th></th>\n",
       "      <th>User</th>\n",
       "      <th>Movie</th>\n",
       "      <th>Rating</th>\n",
       "      <th>Timestamp</th>\n",
       "      <th>Likes</th>\n",
       "    </tr>\n",
       "  </thead>\n",
       "  <tbody>\n",
       "    <tr>\n",
       "      <th>0</th>\n",
       "      <td>1</td>\n",
       "      <td>1193</td>\n",
       "      <td>5</td>\n",
       "      <td>2000-12-31 22:12:40</td>\n",
       "      <td>1</td>\n",
       "    </tr>\n",
       "    <tr>\n",
       "      <th>4</th>\n",
       "      <td>1</td>\n",
       "      <td>2355</td>\n",
       "      <td>5</td>\n",
       "      <td>2001-01-06 23:38:11</td>\n",
       "      <td>1</td>\n",
       "    </tr>\n",
       "    <tr>\n",
       "      <th>6</th>\n",
       "      <td>1</td>\n",
       "      <td>2804</td>\n",
       "      <td>5</td>\n",
       "      <td>2000-12-31 22:11:59</td>\n",
       "      <td>1</td>\n",
       "    </tr>\n",
       "    <tr>\n",
       "      <th>7</th>\n",
       "      <td>1</td>\n",
       "      <td>594</td>\n",
       "      <td>4</td>\n",
       "      <td>2000-12-31 22:37:48</td>\n",
       "      <td>1</td>\n",
       "    </tr>\n",
       "    <tr>\n",
       "      <th>8</th>\n",
       "      <td>1</td>\n",
       "      <td>919</td>\n",
       "      <td>4</td>\n",
       "      <td>2000-12-31 22:22:48</td>\n",
       "      <td>1</td>\n",
       "    </tr>\n",
       "  </tbody>\n",
       "</table>\n",
       "</div>"
      ],
      "text/plain": [
       "   User  Movie  Rating           Timestamp  Likes\n",
       "0     1   1193       5 2000-12-31 22:12:40      1\n",
       "4     1   2355       5 2001-01-06 23:38:11      1\n",
       "6     1   2804       5 2000-12-31 22:11:59      1\n",
       "7     1    594       4 2000-12-31 22:37:48      1\n",
       "8     1    919       4 2000-12-31 22:22:48      1"
      ]
     },
     "execution_count": 7,
     "metadata": {},
     "output_type": "execute_result"
    }
   ],
   "source": [
    "# Create X_train y_train\n",
    "ratings_df = recmodel.user_item_network.CF_data\n",
    "pos_ratings_df = ratings_df[ratings_df.Rating>3]\n",
    "# RefMovs = pos_ratings_df.groupby('User')['Movie'].apply(list)\n",
    "pos_ratings_df = pos_ratings_df.assign(Likes= lambda x: 1)\n",
    "# pos_ratings_df['ReferenceMovies'] = pos_ratings_df['User'].map(RefMovs)\n",
    "print(pos_ratings_df.shape)\n",
    "pos_ratings_df.head()"
   ]
  },
  {
   "cell_type": "code",
   "execution_count": 8,
   "metadata": {},
   "outputs": [],
   "source": [
    "# items_as_cols = pos_ratings_df.apply(lambda x: pd.Series(x['ReferenceMovies']),axis=1)\n",
    "# items_as_cols['orig_index'] = items_as_cols.index\n",
    "# melted_items = pd.melt(items_as_cols, id_vars='orig_index', var_name='sample_num', value_name='Ref_Movie')\n",
    "# melted_items.set_index('orig_index', inplace=True)\n",
    "\n",
    "# pos_ratings_df = pos_ratings_df.merge(melted_items, left_index=True, right_index=True)\n",
    "# pos_ratings_df.shape"
   ]
  },
  {
   "cell_type": "code",
   "execution_count": 9,
   "metadata": {},
   "outputs": [
    {
     "name": "stdout",
     "output_type": "stream",
     "text": [
      "(346981, 5)\n"
     ]
    },
    {
     "data": {
      "text/html": [
       "<div>\n",
       "<style scoped>\n",
       "    .dataframe tbody tr th:only-of-type {\n",
       "        vertical-align: middle;\n",
       "    }\n",
       "\n",
       "    .dataframe tbody tr th {\n",
       "        vertical-align: top;\n",
       "    }\n",
       "\n",
       "    .dataframe thead th {\n",
       "        text-align: right;\n",
       "    }\n",
       "</style>\n",
       "<table border=\"1\" class=\"dataframe\">\n",
       "  <thead>\n",
       "    <tr style=\"text-align: right;\">\n",
       "      <th></th>\n",
       "      <th>User</th>\n",
       "      <th>Movie</th>\n",
       "      <th>Rating</th>\n",
       "      <th>Timestamp</th>\n",
       "      <th>Likes</th>\n",
       "    </tr>\n",
       "  </thead>\n",
       "  <tbody>\n",
       "    <tr>\n",
       "      <th>1</th>\n",
       "      <td>1</td>\n",
       "      <td>661</td>\n",
       "      <td>3</td>\n",
       "      <td>2000-12-31 22:35:09</td>\n",
       "      <td>0</td>\n",
       "    </tr>\n",
       "    <tr>\n",
       "      <th>2</th>\n",
       "      <td>1</td>\n",
       "      <td>914</td>\n",
       "      <td>3</td>\n",
       "      <td>2000-12-31 22:32:48</td>\n",
       "      <td>0</td>\n",
       "    </tr>\n",
       "    <tr>\n",
       "      <th>5</th>\n",
       "      <td>1</td>\n",
       "      <td>1197</td>\n",
       "      <td>3</td>\n",
       "      <td>2000-12-31 22:37:48</td>\n",
       "      <td>0</td>\n",
       "    </tr>\n",
       "    <tr>\n",
       "      <th>13</th>\n",
       "      <td>1</td>\n",
       "      <td>2687</td>\n",
       "      <td>3</td>\n",
       "      <td>2001-01-06 23:37:48</td>\n",
       "      <td>0</td>\n",
       "    </tr>\n",
       "    <tr>\n",
       "      <th>16</th>\n",
       "      <td>1</td>\n",
       "      <td>2321</td>\n",
       "      <td>3</td>\n",
       "      <td>2000-12-31 22:36:45</td>\n",
       "      <td>0</td>\n",
       "    </tr>\n",
       "  </tbody>\n",
       "</table>\n",
       "</div>"
      ],
      "text/plain": [
       "    User  Movie  Rating           Timestamp  Likes\n",
       "1      1    661       3 2000-12-31 22:35:09      0\n",
       "2      1    914       3 2000-12-31 22:32:48      0\n",
       "5      1   1197       3 2000-12-31 22:37:48      0\n",
       "13     1   2687       3 2001-01-06 23:37:48      0\n",
       "16     1   2321       3 2000-12-31 22:36:45      0"
      ]
     },
     "execution_count": 9,
     "metadata": {},
     "output_type": "execute_result"
    }
   ],
   "source": [
    "# Create X_train y_train\n",
    "ratings_df = recmodel.user_item_network.CF_data\n",
    "neg_ratings_df = ratings_df[ratings_df.Rating<=3]\n",
    "# RefMovs = neg_ratings_df.groupby('User')['Movie'].apply(list)\n",
    "neg_ratings_df = neg_ratings_df.assign(Likes= lambda x: 0)\n",
    "# neg_ratings_df['ReferenceMovies'] = neg_ratings_df['User'].map(RefMovs)\n",
    "print(neg_ratings_df.shape)\n",
    "neg_ratings_df.head()"
   ]
  },
  {
   "cell_type": "code",
   "execution_count": 10,
   "metadata": {},
   "outputs": [],
   "source": [
    "# items_as_cols = neg_ratings_df.apply(lambda x: pd.Series(x['ReferenceMovies']),axis=1)\n",
    "# items_as_cols['orig_index'] = items_as_cols.index\n",
    "# melted_items = pd.melt(items_as_cols, id_vars='orig_index', var_name='sample_num', value_name='Ref_Movie')\n",
    "# melted_items.set_index('orig_index', inplace=True)\n",
    "\n",
    "# neg_ratings_df = neg_ratings_df.merge(melted_items, left_index=True, right_index=True)\n",
    "# neg_ratings_df.shape"
   ]
  },
  {
   "cell_type": "code",
   "execution_count": null,
   "metadata": {},
   "outputs": [],
   "source": []
  },
  {
   "cell_type": "code",
   "execution_count": null,
   "metadata": {},
   "outputs": [],
   "source": []
  },
  {
   "cell_type": "code",
   "execution_count": 11,
   "metadata": {},
   "outputs": [
    {
     "data": {
      "text/plain": [
       "(833815, 5)"
      ]
     },
     "execution_count": 11,
     "metadata": {},
     "output_type": "execute_result"
    }
   ],
   "source": [
    "training_df = pd.concat([pos_ratings_df,neg_ratings_df],axis=0, sort=False)\n",
    "training_df.shape"
   ]
  },
  {
   "cell_type": "code",
   "execution_count": 12,
   "metadata": {},
   "outputs": [
    {
     "data": {
      "text/plain": [
       "(833815, 3)"
      ]
     },
     "execution_count": 12,
     "metadata": {},
     "output_type": "execute_result"
    }
   ],
   "source": [
    "training_df = training_df.drop(['Timestamp','Rating'], axis=1)\n",
    "training_df.shape"
   ]
  },
  {
   "cell_type": "code",
   "execution_count": 13,
   "metadata": {},
   "outputs": [
    {
     "data": {
      "text/html": [
       "<div>\n",
       "<style scoped>\n",
       "    .dataframe tbody tr th:only-of-type {\n",
       "        vertical-align: middle;\n",
       "    }\n",
       "\n",
       "    .dataframe tbody tr th {\n",
       "        vertical-align: top;\n",
       "    }\n",
       "\n",
       "    .dataframe thead th {\n",
       "        text-align: right;\n",
       "    }\n",
       "</style>\n",
       "<table border=\"1\" class=\"dataframe\">\n",
       "  <thead>\n",
       "    <tr style=\"text-align: right;\">\n",
       "      <th></th>\n",
       "      <th>User</th>\n",
       "      <th>Movie</th>\n",
       "      <th>Likes</th>\n",
       "    </tr>\n",
       "  </thead>\n",
       "  <tbody>\n",
       "    <tr>\n",
       "      <th>0</th>\n",
       "      <td>1</td>\n",
       "      <td>1193</td>\n",
       "      <td>1</td>\n",
       "    </tr>\n",
       "  </tbody>\n",
       "</table>\n",
       "</div>"
      ],
      "text/plain": [
       "   User  Movie  Likes\n",
       "0     1   1193      1"
      ]
     },
     "execution_count": 13,
     "metadata": {},
     "output_type": "execute_result"
    }
   ],
   "source": [
    "training_df.head(1)"
   ]
  },
  {
   "cell_type": "code",
   "execution_count": null,
   "metadata": {},
   "outputs": [],
   "source": [
    "X, y = [], []\n",
    "np.random.seed(232)\n",
    "# trainingX = open('trainingX.cvs', 'w')\n",
    "# trainingy = open('trainingy.cvs', 'w')\n",
    "# with open('trainingX.cvs', 'a') as f:\n",
    "for index, row in training_df.iterrows(): \n",
    "\n",
    "    normed_user_latent = np.array(recmodel.user_latent[row['User']]) / np.linalg.norm(np.array(recmodel.user_latent[row['User']]))\n",
    "    #print(normed_user_latent.shape)\n",
    "    vis_frames = recmodel.visual_features[row['Movie']]\n",
    "    np.random.shuffle(vis_frames)\n",
    "\n",
    "    for frame in vis_frames[:5]:\n",
    "        normed_frame_features = frame / np.linalg.norm(frame)\n",
    "        #print(normed_frame_features.shape)\n",
    "\n",
    "        fused_features = np.concatenate([normed_frame_features, normed_user_latent])\n",
    "\n",
    "#         np.savetxt(f, fused_features, fmt=\"%d\")\n",
    "#         trainingy.write(str(row['Likes']))\n",
    "\n",
    "        X.append(fused_features)\n",
    "        y.append(row['Likes'])\n",
    "#     break"
   ]
  },
  {
   "cell_type": "code",
   "execution_count": 62,
   "metadata": {},
   "outputs": [
    {
     "data": {
      "text/plain": [
       "(5, 2304)"
      ]
     },
     "execution_count": 62,
     "metadata": {},
     "output_type": "execute_result"
    }
   ],
   "source": [
    "np.array(X).shape"
   ]
  },
  {
   "cell_type": "code",
   "execution_count": 63,
   "metadata": {},
   "outputs": [
    {
     "data": {
      "text/plain": [
       "(5,)"
      ]
     },
     "execution_count": 63,
     "metadata": {},
     "output_type": "execute_result"
    }
   ],
   "source": [
    "np.array(y).shape"
   ]
  },
  {
   "cell_type": "code",
   "execution_count": 64,
   "metadata": {},
   "outputs": [
    {
     "data": {
      "text/plain": [
       "[array([ 0.00934482,  0.01519698,  0.00724566, ..., -0.02558475,\n",
       "         0.01077429,  0.03506238]),\n",
       " array([ 0.01172481,  0.01144171,  0.0171877 , ..., -0.02558475,\n",
       "         0.01077429,  0.03506238]),\n",
       " array([ 0.01975105,  0.01908408,  0.00967255, ..., -0.02558475,\n",
       "         0.01077429,  0.03506238]),\n",
       " array([ 0.00079263,  0.0038699 ,  0.00473542, ..., -0.02558475,\n",
       "         0.01077429,  0.03506238]),\n",
       " array([ 0.00667729,  0.00568597,  0.01435956, ..., -0.02558475,\n",
       "         0.01077429,  0.03506238])]"
      ]
     },
     "execution_count": 64,
     "metadata": {},
     "output_type": "execute_result"
    }
   ],
   "source": [
    "X"
   ]
  },
  {
   "cell_type": "code",
   "execution_count": 46,
   "metadata": {},
   "outputs": [
    {
     "data": {
      "text/plain": [
       "array([[0.06424791, 0.46066165, 0.07985336, ..., 0.22710806, 1.2884245 ,\n",
       "        0.20967357],\n",
       "       [0.35950252, 0.17278245, 0.4138576 , ..., 0.06788354, 0.09639137,\n",
       "        0.1827299 ],\n",
       "       [0.5277745 , 0.4246459 , 0.3682531 , ..., 0.04477851, 0.62265044,\n",
       "        0.13475198],\n",
       "       ...,\n",
       "       [0.10783178, 0.12352527, 0.35091925, ..., 0.1705728 , 1.509834  ,\n",
       "        0.23580384],\n",
       "       [0.46540892, 0.49070862, 0.31217238, ..., 0.        , 0.55122775,\n",
       "        0.11096258],\n",
       "       [0.32453746, 0.280178  , 0.27946118, ..., 0.00317025, 0.7611169 ,\n",
       "        0.27896708]], dtype=float32)"
      ]
     },
     "execution_count": 46,
     "metadata": {},
     "output_type": "execute_result"
    }
   ],
   "source": [
    "k = recmodel.visual_features[row['Movie']]\n",
    "k"
   ]
  },
  {
   "cell_type": "code",
   "execution_count": 49,
   "metadata": {},
   "outputs": [
    {
     "data": {
      "text/plain": [
       "array([[0.05805467, 0.18774937, 0.11471506, ..., 0.13911499, 0.43751204,\n",
       "        0.48608038],\n",
       "       [0.35528803, 0.34329048, 0.17399295, ..., 0.        , 0.5718152 ,\n",
       "        0.4152525 ],\n",
       "       [0.01682228, 0.08213215, 0.1005014 , ..., 0.23561662, 0.2803183 ,\n",
       "        0.36174986],\n",
       "       [0.5277745 , 0.4246459 , 0.3682531 , ..., 0.04477851, 0.62265044,\n",
       "        0.13475198],\n",
       "       [0.10783178, 0.12352527, 0.35091925, ..., 0.1705728 , 1.509834  ,\n",
       "        0.23580384]], dtype=float32)"
      ]
     },
     "execution_count": 49,
     "metadata": {},
     "output_type": "execute_result"
    }
   ],
   "source": [
    "np.random.shuffle(k)\n",
    "k[:5]"
   ]
  }
 ],
 "metadata": {
  "kernelspec": {
   "display_name": "Python 3",
   "language": "python",
   "name": "python3"
  },
  "language_info": {
   "codemirror_mode": {
    "name": "ipython",
    "version": 3
   },
   "file_extension": ".py",
   "mimetype": "text/x-python",
   "name": "python",
   "nbconvert_exporter": "python",
   "pygments_lexer": "ipython3",
   "version": "3.6.5"
  }
 },
 "nbformat": 4,
 "nbformat_minor": 2
}
