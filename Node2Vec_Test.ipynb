{
 "cells": [
  {
   "cell_type": "code",
   "execution_count": 1,
   "metadata": {},
   "outputs": [],
   "source": [
    "from data import data_creation as dc\n",
    "import os\n",
    "\n",
    "from multimodalrec.viewership import BipartiteNetwork\n",
    "\n",
    "directory = os.path.dirname(os.path.realpath(\"__file__\"))+'/data/ml-1m/ratings.dat'\n",
    "all_movies_dir = os.path.dirname(os.path.realpath(\"__file__\"))+'/data/all_movies.txt'\n",
    "pickles_dir = os.path.dirname(os.path.realpath(\"__file__\"))+'/data/pickles/'"
   ]
  },
  {
   "cell_type": "code",
   "execution_count": 4,
   "metadata": {},
   "outputs": [],
   "source": [
    "data = dc.get_movielens_1M(directory=directory, all_movies_dir=all_movies_dir, pickles_dir=pickles_dir,min_positive_score=4)"
   ]
  },
  {
   "cell_type": "code",
   "execution_count": 3,
   "metadata": {},
   "outputs": [],
   "source": [
    "# There is no movies exist both in training and test set\n",
    "assert len(set(data['training'].Movie.unique().tolist()) - set(data['test'].Movie.unique().tolist())) == len(data['training'].Movie.unique().tolist())"
   ]
  },
  {
   "cell_type": "code",
   "execution_count": 5,
   "metadata": {},
   "outputs": [],
   "source": [
    "bipartite = BipartiteNetwork(data['training'], trim_type=0, trim_value_movie=150, trim_value_user=100) # 0 Threshold trim"
   ]
  },
  {
   "cell_type": "code",
   "execution_count": 6,
   "metadata": {},
   "outputs": [
    {
     "name": "stdout",
     "output_type": "stream",
     "text": [
      "Projected Movie Graph density: 0.6686550020787677\n"
     ]
    }
   ],
   "source": [
    "bipartite.compute_projection(node_type=1) # Movie Projection"
   ]
  },
  {
   "cell_type": "code",
   "execution_count": 7,
   "metadata": {},
   "outputs": [
    {
     "name": "stdout",
     "output_type": "stream",
     "text": [
      "Number of remaining edge in trimmed graph: 84648\n"
     ]
    },
    {
     "name": "stderr",
     "output_type": "stream",
     "text": [
      "Computing transition probabilities: 100%|██████████| 2717/2717 [02:01<00:00, 22.40it/s]\n"
     ]
    }
   ],
   "source": [
    "movie_representations = bipartite.get_Movie_representations()"
   ]
  },
  {
   "cell_type": "code",
   "execution_count": 7,
   "metadata": {},
   "outputs": [],
   "source": [
    "# movie_representations.keys()"
   ]
  }
 ],
 "metadata": {
  "kernelspec": {
   "display_name": "Python 3",
   "language": "python",
   "name": "python3"
  },
  "language_info": {
   "codemirror_mode": {
    "name": "ipython",
    "version": 3
   },
   "file_extension": ".py",
   "mimetype": "text/x-python",
   "name": "python",
   "nbconvert_exporter": "python",
   "pygments_lexer": "ipython3",
   "version": "3.6.5"
  }
 },
 "nbformat": 4,
 "nbformat_minor": 2
}
